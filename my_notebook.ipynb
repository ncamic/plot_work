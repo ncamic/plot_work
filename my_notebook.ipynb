{
 "cells": [
  {
   "cell_type": "markdown",
   "id": "8b3a5fcd",
   "metadata": {},
   "source": [
    "Titanic Plots"
   ]
  },
  {
   "cell_type": "code",
   "execution_count": 8,
   "id": "5e666913",
   "metadata": {},
   "outputs": [
    {
     "data": {
      "text/html": [
       "<div>\n",
       "<style scoped>\n",
       "    .dataframe tbody tr th:only-of-type {\n",
       "        vertical-align: middle;\n",
       "    }\n",
       "\n",
       "    .dataframe tbody tr th {\n",
       "        vertical-align: top;\n",
       "    }\n",
       "\n",
       "    .dataframe thead th {\n",
       "        text-align: right;\n",
       "    }\n",
       "</style>\n",
       "<table border=\"1\" class=\"dataframe\">\n",
       "  <thead>\n",
       "    <tr style=\"text-align: right;\">\n",
       "      <th></th>\n",
       "      <th>PassengerId</th>\n",
       "      <th>Survived</th>\n",
       "      <th>Pclass</th>\n",
       "      <th>Name</th>\n",
       "      <th>Sex</th>\n",
       "      <th>Age</th>\n",
       "      <th>SibSp</th>\n",
       "      <th>Parch</th>\n",
       "      <th>Ticket</th>\n",
       "      <th>Fare</th>\n",
       "      <th>Cabin</th>\n",
       "      <th>Embarked</th>\n",
       "      <th>survival_status</th>\n",
       "    </tr>\n",
       "  </thead>\n",
       "  <tbody>\n",
       "    <tr>\n",
       "      <th>0</th>\n",
       "      <td>892</td>\n",
       "      <td>0</td>\n",
       "      <td>3</td>\n",
       "      <td>Kelly, Mr. James</td>\n",
       "      <td>male</td>\n",
       "      <td>34.5</td>\n",
       "      <td>0</td>\n",
       "      <td>0</td>\n",
       "      <td>330911</td>\n",
       "      <td>7.8292</td>\n",
       "      <td>NaN</td>\n",
       "      <td>Q</td>\n",
       "      <td>Did Not Survive</td>\n",
       "    </tr>\n",
       "    <tr>\n",
       "      <th>1</th>\n",
       "      <td>893</td>\n",
       "      <td>1</td>\n",
       "      <td>3</td>\n",
       "      <td>Wilkes, Mrs. James (Ellen Needs)</td>\n",
       "      <td>female</td>\n",
       "      <td>47.0</td>\n",
       "      <td>1</td>\n",
       "      <td>0</td>\n",
       "      <td>363272</td>\n",
       "      <td>7.0000</td>\n",
       "      <td>NaN</td>\n",
       "      <td>S</td>\n",
       "      <td>Survived</td>\n",
       "    </tr>\n",
       "    <tr>\n",
       "      <th>2</th>\n",
       "      <td>894</td>\n",
       "      <td>0</td>\n",
       "      <td>2</td>\n",
       "      <td>Myles, Mr. Thomas Francis</td>\n",
       "      <td>male</td>\n",
       "      <td>62.0</td>\n",
       "      <td>0</td>\n",
       "      <td>0</td>\n",
       "      <td>240276</td>\n",
       "      <td>9.6875</td>\n",
       "      <td>NaN</td>\n",
       "      <td>Q</td>\n",
       "      <td>Did Not Survive</td>\n",
       "    </tr>\n",
       "    <tr>\n",
       "      <th>3</th>\n",
       "      <td>895</td>\n",
       "      <td>0</td>\n",
       "      <td>3</td>\n",
       "      <td>Wirz, Mr. Albert</td>\n",
       "      <td>male</td>\n",
       "      <td>27.0</td>\n",
       "      <td>0</td>\n",
       "      <td>0</td>\n",
       "      <td>315154</td>\n",
       "      <td>8.6625</td>\n",
       "      <td>NaN</td>\n",
       "      <td>S</td>\n",
       "      <td>Did Not Survive</td>\n",
       "    </tr>\n",
       "    <tr>\n",
       "      <th>4</th>\n",
       "      <td>896</td>\n",
       "      <td>1</td>\n",
       "      <td>3</td>\n",
       "      <td>Hirvonen, Mrs. Alexander (Helga E Lindqvist)</td>\n",
       "      <td>female</td>\n",
       "      <td>22.0</td>\n",
       "      <td>1</td>\n",
       "      <td>1</td>\n",
       "      <td>3101298</td>\n",
       "      <td>12.2875</td>\n",
       "      <td>NaN</td>\n",
       "      <td>S</td>\n",
       "      <td>Survived</td>\n",
       "    </tr>\n",
       "  </tbody>\n",
       "</table>\n",
       "</div>"
      ],
      "text/plain": [
       "   PassengerId  Survived  Pclass  \\\n",
       "0          892         0       3   \n",
       "1          893         1       3   \n",
       "2          894         0       2   \n",
       "3          895         0       3   \n",
       "4          896         1       3   \n",
       "\n",
       "                                           Name     Sex   Age  SibSp  Parch  \\\n",
       "0                              Kelly, Mr. James    male  34.5      0      0   \n",
       "1              Wilkes, Mrs. James (Ellen Needs)  female  47.0      1      0   \n",
       "2                     Myles, Mr. Thomas Francis    male  62.0      0      0   \n",
       "3                              Wirz, Mr. Albert    male  27.0      0      0   \n",
       "4  Hirvonen, Mrs. Alexander (Helga E Lindqvist)  female  22.0      1      1   \n",
       "\n",
       "    Ticket     Fare Cabin Embarked  survival_status  \n",
       "0   330911   7.8292   NaN        Q  Did Not Survive  \n",
       "1   363272   7.0000   NaN        S         Survived  \n",
       "2   240276   9.6875   NaN        Q  Did Not Survive  \n",
       "3   315154   8.6625   NaN        S  Did Not Survive  \n",
       "4  3101298  12.2875   NaN        S         Survived  "
      ]
     },
     "execution_count": 8,
     "metadata": {},
     "output_type": "execute_result"
    }
   ],
   "source": [
    "import pandas as pd\n",
    "import matplotlib.pyplot as plt\n",
    "import seaborn as sns\n",
    "import plotly.express as px\n",
    "import numpy as np\n",
    "\n",
    "df = pd.read_csv('titanic.csv')\n",
    "survivors_df = df[df['Survived'] == 1]\n",
    "df['survival_status'] = df['Survived'].map({0: 'Did Not Survive', 1: 'Survived'})\n",
    "df.head()\n"
   ]
  },
  {
   "cell_type": "markdown",
   "id": "1b129e0a",
   "metadata": {},
   "source": [
    "Surivors by Age"
   ]
  },
  {
   "cell_type": "code",
   "execution_count": 2,
   "id": "44dad439",
   "metadata": {},
   "outputs": [
    {
     "data": {
      "image/png": "[encoded data removed]",
      "text/plain": [
       "<Figure size 640x480 with 1 Axes>"
      ]
     },
     "metadata": {},
     "output_type": "display_data"
    }
   ],
   "source": [
    "sns.histplot(data=survivors_df, x='Age', hue='Survived', multiple='stack', bins=30)\n",
    "plt.title('Survivor Age Distribution')\n",
    "plt.xlabel('Age')\n",
    "plt.ylabel('Count')\n",
    "plt.show()"
   ]
  },
  {
   "cell_type": "markdown",
   "id": "36418cba",
   "metadata": {},
   "source": [
    "Survival by Fare and Age"
   ]
  },
  {
   "cell_type": "code",
   "execution_count": 3,
   "id": "29fab229",
   "metadata": {},
   "outputs": [
    {
     "data": {
      "text/plain": [
       "Text(0.5, 1.0, 'Survival by Fare and Age')"
      ]
     },
     "execution_count": 3,
     "metadata": {},
     "output_type": "execute_result"
    },
    {
     "data": {
      "image/png": "[encoded data removed]",
      "text/plain": [
       "<Figure size 640x480 with 1 Axes>"
      ]
     },
     "metadata": {},
     "output_type": "display_data"
    }
   ],
   "source": [
    "sns.scatterplot(data=df, x='Age', y='Fare', hue='Survived')\n",
    "plt.title('Survival by Fare and Age')"
   ]
  },
  {
   "cell_type": "markdown",
   "id": "5c1ecde9",
   "metadata": {},
   "source": [
    "Survivor & Fatality Split"
   ]
  },
  {
   "cell_type": "code",
   "execution_count": 7,
   "id": "64b4d194",
   "metadata": {},
   "outputs": [
    {
     "data": {
      "application/vnd.plotly.v1+json": {
       "config": {
        "plotlyServerURL": "https://plot.ly"
       },
       "data": [
        {
         "domain": {
          "x": [
           0,
           1
          ],
          "y": [
           0,
           1
          ]
         },
         "hovertemplate": "survival_status=%{label}<extra></extra>",
         "labels": [
          "Did Not Survive",
          "Survived",
          "Did Not Survive",
          "Did Not Survive",
          "Survived",
          "Did Not Survive",
          "Survived",
          "Did Not Survive",
          "Survived",
          "Did Not Survive",
          "Did Not Survive",
          "Did Not Survive",
          "Survived",
          "Did Not Survive",
          "Survived",
          "Survived",
          "Did Not Survive",
          "Did Not Survive",
          "Survived",
          "Survived",
          "Did Not Survive",
          "Did Not Survive",
          "Survived",
          "Did Not Survive",
          "Survived",
          "Did Not Survive",
          "Survived",
          "Did Not Survive",
          "Did Not Survive",
          "Did Not Survive",
          "Did Not Survive",
          "Did Not Survive",
          "Survived",
          "Survived",
          "Did Not Survive",
          "Did Not Survive",
          "Survived",
          "Survived",
          "Did Not Survive",
          "Did Not Survive",
          "Did Not Survive",
          "Did Not Survive",
          "Did Not Survive",
          "Survived",
          "Survived",
          "Did Not Survive",
          "Did Not Survive",
          "Did Not Survive",
          "Survived",
          "Survived",
          "Did Not Survive",
          "Did Not Survive",
          "Survived",
          "Survived",
          "Did Not Survive",
          "Did Not Survive",
          "Did Not Survive",
          "Did Not Survive",
          "Did Not Survive",
          "Survived",
          "Did Not Survive",
          "Did Not Survive",
          "Did Not Survive",
          "Survived",
          "Did Not Survive",
          "Survived",
          "Survived",
          "Did Not Survive",
          "Did Not Survive",
          "Survived",
          "Survived",
          "Did Not Survive",
          "Survived",
          "Did Not Survive",
          "Survived",
          "Did Not Survive",
          "Did Not Survive",
          "Survived",
          "Did Not Survive",
          "Survived",
          "Did Not Survive",
          "Did Not Survive",
          "Did Not Survive",
          "Did Not Survive",
          "Did Not Survive",
          "Did Not Survive",
          "Survived",
          "Survived",
          "Survived",
          "Did Not Survive",
          "Survived",
          "Did Not Survive",
          "Survived",
          "Did Not Survive",
          "Did Not Survive",
          "Did Not Survive",
          "Survived",
          "Did Not Survive",
          "Survived",
          "Did Not Survive",
          "Survived",
          "Did Not Survive",
          "Did Not Survive",
          "Did Not Survive",
          "Survived",
          "Did Not Survive",
          "Did Not Survive",
          "Did Not Survive",
          "Did Not Survive",
          "Did Not Survive",
          "Did Not Survive",
          "Survived",
          "Survived",
          "Survived",
          "Survived",
          "Did Not Survive",
          "Did Not Survive",
          "Survived",
          "Did Not Survive",
          "Survived",
          "Survived",
          "Did Not Survive",
          "Survived",
          "Did Not Survive",
          "Did Not Survive",
          "Survived",
          "Did Not Survive",
          "Survived",
          "Did Not Survive",
          "Did Not Survive",
          "Did Not Survive",
          "Did Not Survive",
          "Survived",
          "Did Not Survive",
          "Did Not Survive",
          "Did Not Survive",
          "Did Not Survive",
          "Did Not Survive",
          "Survived",
          "Did Not Survive",
          "Survived",
          "Survived",
          "Did Not Survive",
          "Did Not Survive",
          "Did Not Survive",
          "Did Not Survive",
          "Did Not Survive",
          "Did Not Survive",
          "Did Not Survive",
          "Did Not Survive",
          "Survived",
          "Did Not Survive",
          "Did Not Survive",
          "Survived",
          "Did Not Survive",
          "Did Not Survive",
          "Survived",
          "Survived",
          "Did Not Survive",
          "Survived",
          "Survived",
          "Did Not Survive",
          "Survived",
          "Did Not Survive",
          "Did Not Survive",
          "Survived",
          "Did Not Survive",
          "Did Not Survive",
          "Survived",
          "Survived",
          "Did Not Survive",
          "Did Not Survive",
          "Did Not Survive",
          "Did Not Survive",
          "Did Not Survive",
          "Survived",
          "Survived",
          "Did Not Survive",
          "Survived",
          "Survived",
          "Did Not Survive",
          "Did Not Survive",
          "Survived",
          "Did Not Survive",
          "Survived",
          "Did Not Survive",
          "Survived",
          "Did Not Survive",
          "Survived",
          "Did Not Survive",
          "Did Not Survive",
          "Did Not Survive",
          "Did Not Survive",
          "Did Not Survive",
          "Did Not Survive",
          "Did Not Survive",
          "Did Not Survive",
          "Survived",
          "Did Not Survive",
          "Survived",
          "Survived",
          "Did Not Survive",
          "Did Not Survive",
          "Survived",
          "Did Not Survive",
          "Did Not Survive",
          "Survived",
          "Did Not Survive",
          "Survived",
          "Did Not Survive",
          "Did Not Survive",
          "Did Not Survive",
          "Did Not Survive",
          "Survived",
          "Survived",
          "Did Not Survive",
          "Survived",
          "Did Not Survive",
          "Survived",
          "Did Not Survive",
          "Survived",
          "Did Not Survive",
          "Survived",
          "Did Not Survive",
          "Survived",
          "Survived",
          "Did Not Survive",
          "Survived",
          "Did Not Survive",
          "Did Not Survive",
          "Did Not Survive",
          "Survived",
          "Did Not Survive",
          "Did Not Survive",
          "Did Not Survive",
          "Did Not Survive",
          "Did Not Survive",
          "Did Not Survive",
          "Survived",
          "Survived",
          "Survived",
          "Survived",
          "Did Not Survive",
          "Did Not Survive",
          "Did Not Survive",
          "Did Not Survive",
          "Survived",
          "Did Not Survive",
          "Survived",
          "Survived",
          "Survived",
          "Did Not Survive",
          "Did Not Survive",
          "Did Not Survive",
          "Did Not Survive",
          "Did Not Survive",
          "Did Not Survive",
          "Did Not Survive",
          "Survived",
          "Did Not Survive",
          "Did Not Survive",
          "Did Not Survive",
          "Survived",
          "Survived",
          "Did Not Survive",
          "Did Not Survive",
          "Did Not Survive",
          "Did Not Survive",
          "Survived",
          "Did Not Survive",
          "Did Not Survive",
          "Did Not Survive",
          "Survived",
          "Survived",
          "Did Not Survive",
          "Survived",
          "Did Not Survive",
          "Did Not Survive",
          "Did Not Survive",
          "Did Not Survive",
          "Survived",
          "Did Not Survive",
          "Survived",
          "Survived",
          "Survived",
          "Did Not Survive",
          "Did Not Survive",
          "Did Not Survive",
          "Did Not Survive",
          "Did Not Survive",
          "Did Not Survive",
          "Survived",
          "Did Not Survive",
          "Did Not Survive",
          "Did Not Survive",
          "Did Not Survive",
          "Survived",
          "Did Not Survive",
          "Did Not Survive",
          "Did Not Survive",
          "Did Not Survive",
          "Did Not Survive",
          "Did Not Survive",
          "Did Not Survive",
          "Survived",
          "Survived",
          "Did Not Survive",
          "Did Not Survive",
          "Did Not Survive",
          "Survived",
          "Did Not Survive",
          "Did Not Survive",
          "Did Not Survive",
          "Survived",
          "Survived",
          "Survived",
          "Did Not Survive",
          "Did Not Survive",
          "Did Not Survive",
          "Did Not Survive",
          "Did Not Survive",
          "Did Not Survive",
          "Did Not Survive",
          "Did Not Survive",
          "Survived",
          "Did Not Survive",
          "Survived",
          "Did Not Survive",
          "Did Not Survive",
          "Did Not Survive",
          "Survived",
          "Did Not Survive",
          "Did Not Survive",
          "Survived",
          "Did Not Survive",
          "Did Not Survive",
          "Did Not Survive",
          "Did Not Survive",
          "Did Not Survive",
          "Did Not Survive",
          "Did Not Survive",
          "Did Not Survive",
          "Did Not Survive",
          "Survived",
          "Did Not Survive",
          "Survived",
          "Did Not Survive",
          "Survived",
          "Did Not Survive",
          "Survived",
          "Survived",
          "Did Not Survive",
          "Did Not Survive",
          "Did Not Survive",
          "Survived",
          "Did Not Survive",
          "Survived",
          "Did Not Survive",
          "Did Not Survive",
          "Survived",
          "Did Not Survive",
          "Survived",
          "Survived",
          "Did Not Survive",
          "Survived",
          "Survived",
          "Did Not Survive",
          "Survived",
          "Survived",
          "Did Not Survive",
          "Did Not Survive",
          "Survived",
          "Did Not Survive",
          "Did Not Survive",
          "Survived",
          "Survived",
          "Survived",
          "Did Not Survive",
          "Did Not Survive",
          "Did Not Survive",
          "Did Not Survive",
          "Did Not Survive",
          "Survived",
          "Survived",
          "Did Not Survive",
          "Survived",
          "Did Not Survive",
          "Did Not Survive",
          "Did Not Survive",
          "Did Not Survive",
          "Did Not Survive",
          "Survived",
          "Did Not Survive",
          "Did Not Survive",
          "Did Not Survive",
          "Survived",
          "Did Not Survive",
          "Survived",
          "Did Not Survive",
          "Did Not Survive",
          "Survived",
          "Did Not Survive",
          "Survived",
          "Did Not Survive",
          "Did Not Survive",
          "Did Not Survive",
          "Did Not Survive",
          "Did Not Survive",
          "Survived",
          "Survived",
          "Survived",
          "Survived",
          "Survived",
          "Did Not Survive",
          "Survived",
          "Did Not Survive",
          "Did Not Survive",
          "Did Not Survive"
         ],
         "legendgroup": "",
         "name": "",
         "showlegend": true,
         "type": "pie"
        }
       ],
       "layout": {
        "legend": {
         "tracegroupgap": 0
        },
        "template": {
         "data": {
          "bar": [
           {
            "error_x": {
             "color": "#2a3f5f"
            },
            "error_y": {
             "color": "#2a3f5f"
            },
            "marker": {
             "line": {
              "color": "#E5ECF6",
              "width": 0.5
             },
             "pattern": {
              "fillmode": "overlay",
              "size": 10,
              "solidity": 0.2
             }
            },
            "type": "bar"
           }
          ],
          "barpolar": [
           {
            "marker": {
             "line": {
              "color": "#E5ECF6",
              "width": 0.5
             },
             "pattern": {
              "fillmode": "overlay",
              "size": 10,
              "solidity": 0.2
             }
            },
            "type": "barpolar"
           }
          ],
          "carpet": [
           {
            "aaxis": {
             "endlinecolor": "#2a3f5f",
             "gridcolor": "white",
             "linecolor": "white",
             "minorgridcolor": "white",
             "startlinecolor": "#2a3f5f"
            },
            "baxis": {
             "endlinecolor": "#2a3f5f",
             "gridcolor": "white",
             "linecolor": "white",
             "minorgridcolor": "white",
             "startlinecolor": "#2a3f5f"
            },
            "type": "carpet"
           }
          ],
          "choropleth": [
           {
            "colorbar": {
             "outlinewidth": 0,
             "ticks": ""
            },
            "type": "choropleth"
           }
          ],
          "contour": [
           {
            "colorbar": {
             "outlinewidth": 0,
             "ticks": ""
            },
            "colorscale": [
             [
              0,
              "#0d0887"
             ],
             [
              0.1111111111111111,
              "#46039f"
             ],
             [
              0.2222222222222222,
              "#7201a8"
             ],
             [
              0.3333333333333333,
              "#9c179e"
             ],
             [
              0.4444444444444444,
              "#bd3786"
             ],
             [
              0.5555555555555556,
              "#d8576b"
             ],
             [
              0.6666666666666666,
              "#ed7953"
             ],
             [
              0.7777777777777778,
              "#fb9f3a"
             ],
             [
              0.8888888888888888,
              "#fdca26"
             ],
             [
              1,
              "#f0f921"
             ]
            ],
            "type": "contour"
           }
          ],
          "contourcarpet": [
           {
            "colorbar": {
             "outlinewidth": 0,
             "ticks": ""
            },
            "type": "contourcarpet"
           }
          ],
          "heatmap": [
           {
            "colorbar": {
             "outlinewidth": 0,
             "ticks": ""
            },
            "colorscale": [
             [
              0,
              "#0d0887"
             ],
             [
              0.1111111111111111,
              "#46039f"
             ],
             [
              0.2222222222222222,
              "#7201a8"
             ],
             [
              0.3333333333333333,
              "#9c179e"
             ],
             [
              0.4444444444444444,
              "#bd3786"
             ],
             [
              0.5555555555555556,
              "#d8576b"
             ],
             [
              0.6666666666666666,
              "#ed7953"
             ],
             [
              0.7777777777777778,
              "#fb9f3a"
             ],
             [
              0.8888888888888888,
              "#fdca26"
             ],
             [
              1,
              "#f0f921"
             ]
            ],
            "type": "heatmap"
           }
          ],
          "histogram": [
           {
            "marker": {
             "pattern": {
              "fillmode": "overlay",
              "size": 10,
              "solidity": 0.2
             }
            },
            "type": "histogram"
           }
          ],
          "histogram2d": [
           {
            "colorbar": {
             "outlinewidth": 0,
             "ticks": ""
            },
            "colorscale": [
             [
              0,
              "#0d0887"
             ],
             [
              0.1111111111111111,
              "#46039f"
             ],
             [
              0.2222222222222222,
              "#7201a8"
             ],
             [
              0.3333333333333333,
              "#9c179e"
             ],
             [
              0.4444444444444444,
              "#bd3786"
             ],
             [
              0.5555555555555556,
              "#d8576b"
             ],
             [
              0.6666666666666666,
              "#ed7953"
             ],
             [
              0.7777777777777778,
              "#fb9f3a"
             ],
             [
              0.8888888888888888,
              "#fdca26"
             ],
             [
              1,
              "#f0f921"
             ]
            ],
            "type": "histogram2d"
           }
          ],
          "histogram2dcontour": [
           {
            "colorbar": {
             "outlinewidth": 0,
             "ticks": ""
            },
            "colorscale": [
             [
              0,
              "#0d0887"
             ],
             [
              0.1111111111111111,
              "#46039f"
             ],
             [
              0.2222222222222222,
              "#7201a8"
             ],
             [
              0.3333333333333333,
              "#9c179e"
             ],
             [
              0.4444444444444444,
              "#bd3786"
             ],
             [
              0.5555555555555556,
              "#d8576b"
             ],
             [
              0.6666666666666666,
              "#ed7953"
             ],
             [
              0.7777777777777778,
              "#fb9f3a"
             ],
             [
              0.8888888888888888,
              "#fdca26"
             ],
             [
              1,
              "#f0f921"
             ]
            ],
            "type": "histogram2dcontour"
           }
          ],
          "mesh3d": [
           {
            "colorbar": {
             "outlinewidth": 0,
             "ticks": ""
            },
            "type": "mesh3d"
           }
          ],
          "parcoords": [
           {
            "line": {
             "colorbar": {
              "outlinewidth": 0,
              "ticks": ""
             }
            },
            "type": "parcoords"
           }
          ],
          "pie": [
           {
            "automargin": true,
            "type": "pie"
           }
          ],
          "scatter": [
           {
            "fillpattern": {
             "fillmode": "overlay",
             "size": 10,
             "solidity": 0.2
            },
            "type": "scatter"
           }
          ],
          "scatter3d": [
           {
            "line": {
             "colorbar": {
              "outlinewidth": 0,
              "ticks": ""
             }
            },
            "marker": {
             "colorbar": {
              "outlinewidth": 0,
              "ticks": ""
             }
            },
            "type": "scatter3d"
           }
          ],
          "scattercarpet": [
           {
            "marker": {
             "colorbar": {
              "outlinewidth": 0,
              "ticks": ""
             }
            },
            "type": "scattercarpet"
           }
          ],
          "scattergeo": [
           {
            "marker": {
             "colorbar": {
              "outlinewidth": 0,
              "ticks": ""
             }
            },
            "type": "scattergeo"
           }
          ],
          "scattergl": [
           {
            "marker": {
             "colorbar": {
              "outlinewidth": 0,
              "ticks": ""
             }
            },
            "type": "scattergl"
           }
          ],
          "scattermap": [
           {
            "marker": {
             "colorbar": {
              "outlinewidth": 0,
              "ticks": ""
             }
            },
            "type": "scattermap"
           }
          ],
          "scattermapbox": [
           {
            "marker": {
             "colorbar": {
              "outlinewidth": 0,
              "ticks": ""
             }
            },
            "type": "scattermapbox"
           }
          ],
          "scatterpolar": [
           {
            "marker": {
             "colorbar": {
              "outlinewidth": 0,
              "ticks": ""
             }
            },
            "type": "scatterpolar"
           }
          ],
          "scatterpolargl": [
           {
            "marker": {
             "colorbar": {
              "outlinewidth": 0,
              "ticks": ""
             }
            },
            "type": "scatterpolargl"
           }
          ],
          "scatterternary": [
           {
            "marker": {
             "colorbar": {
              "outlinewidth": 0,
              "ticks": ""
             }
            },
            "type": "scatterternary"
           }
          ],
          "surface": [
           {
            "colorbar": {
             "outlinewidth": 0,
             "ticks": ""
            },
            "colorscale": [
             [
              0,
              "#0d0887"
             ],
             [
              0.1111111111111111,
              "#46039f"
             ],
             [
              0.2222222222222222,
              "#7201a8"
             ],
             [
              0.3333333333333333,
              "#9c179e"
             ],
             [
              0.4444444444444444,
              "#bd3786"
             ],
             [
              0.5555555555555556,
              "#d8576b"
             ],
             [
              0.6666666666666666,
              "#ed7953"
             ],
             [
              0.7777777777777778,
              "#fb9f3a"
             ],
             [
              0.8888888888888888,
              "#fdca26"
             ],
             [
              1,
              "#f0f921"
             ]
            ],
            "type": "surface"
           }
          ],
          "table": [
           {
            "cells": {
             "fill": {
              "color": "#EBF0F8"
             },
             "line": {
              "color": "white"
             }
            },
            "header": {
             "fill": {
              "color": "#C8D4E3"
             },
             "line": {
              "color": "white"
             }
            },
            "type": "table"
           }
          ]
         },
         "layout": {
          "annotationdefaults": {
           "arrowcolor": "#2a3f5f",
           "arrowhead": 0,
           "arrowwidth": 1
          },
          "autotypenumbers": "strict",
          "coloraxis": {
           "colorbar": {
            "outlinewidth": 0,
            "ticks": ""
           }
          },
          "colorscale": {
           "diverging": [
            [
             0,
             "#8e0152"
            ],
            [
             0.1,
             "#c51b7d"
            ],
            [
             0.2,
             "#de77ae"
            ],
            [
             0.3,
             "#f1b6da"
            ],
            [
             0.4,
             "#fde0ef"
            ],
            [
             0.5,
             "#f7f7f7"
            ],
            [
             0.6,
             "#e6f5d0"
            ],
            [
             0.7,
             "#b8e186"
            ],
            [
             0.8,
             "#7fbc41"
            ],
            [
             0.9,
             "#4d9221"
            ],
            [
             1,
             "#276419"
            ]
           ],
           "sequential": [
            [
             0,
             "#0d0887"
            ],
            [
             0.1111111111111111,
             "#46039f"
            ],
            [
             0.2222222222222222,
             "#7201a8"
            ],
            [
             0.3333333333333333,
             "#9c179e"
            ],
            [
             0.4444444444444444,
             "#bd3786"
            ],
            [
             0.5555555555555556,
             "#d8576b"
            ],
            [
             0.6666666666666666,
             "#ed7953"
            ],
            [
             0.7777777777777778,
             "#fb9f3a"
            ],
            [
             0.8888888888888888,
             "#fdca26"
            ],
            [
             1,
             "#f0f921"
            ]
           ],
           "sequentialminus": [
            [
             0,
             "#0d0887"
            ],
            [
             0.1111111111111111,
             "#46039f"
            ],
            [
             0.2222222222222222,
             "#7201a8"
            ],
            [
             0.3333333333333333,
             "#9c179e"
            ],
            [
             0.4444444444444444,
             "#bd3786"
            ],
            [
             0.5555555555555556,
             "#d8576b"
            ],
            [
             0.6666666666666666,
             "#ed7953"
            ],
            [
             0.7777777777777778,
             "#fb9f3a"
            ],
            [
             0.8888888888888888,
             "#fdca26"
            ],
            [
             1,
             "#f0f921"
            ]
           ]
          },
          "colorway": [
           "#636efa",
           "#EF553B",
           "#00cc96",
           "#ab63fa",
           "#FFA15A",
           "#19d3f3",
           "#FF6692",
           "#B6E880",
           "#FF97FF",
           "#FECB52"
          ],
          "font": {
           "color": "#2a3f5f"
          },
          "geo": {
           "bgcolor": "white",
           "lakecolor": "white",
           "landcolor": "#E5ECF6",
           "showlakes": true,
           "showland": true,
           "subunitcolor": "white"
          },
          "hoverlabel": {
           "align": "left"
          },
          "hovermode": "closest",
          "mapbox": {
           "style": "light"
          },
          "paper_bgcolor": "white",
          "plot_bgcolor": "#E5ECF6",
          "polar": {
           "angularaxis": {
            "gridcolor": "white",
            "linecolor": "white",
            "ticks": ""
           },
           "bgcolor": "#E5ECF6",
           "radialaxis": {
            "gridcolor": "white",
            "linecolor": "white",
            "ticks": ""
           }
          },
          "scene": {
           "xaxis": {
            "backgroundcolor": "#E5ECF6",
            "gridcolor": "white",
            "gridwidth": 2,
            "linecolor": "white",
            "showbackground": true,
            "ticks": "",
            "zerolinecolor": "white"
           },
           "yaxis": {
            "backgroundcolor": "#E5ECF6",
            "gridcolor": "white",
            "gridwidth": 2,
            "linecolor": "white",
            "showbackground": true,
            "ticks": "",
            "zerolinecolor": "white"
           },
           "zaxis": {
            "backgroundcolor": "#E5ECF6",
            "gridcolor": "white",
            "gridwidth": 2,
            "linecolor": "white",
            "showbackground": true,
            "ticks": "",
            "zerolinecolor": "white"
           }
          },
          "shapedefaults": {
           "line": {
            "color": "#2a3f5f"
           }
          },
          "ternary": {
           "aaxis": {
            "gridcolor": "white",
            "linecolor": "white",
            "ticks": ""
           },
           "baxis": {
            "gridcolor": "white",
            "linecolor": "white",
            "ticks": ""
           },
           "bgcolor": "#E5ECF6",
           "caxis": {
            "gridcolor": "white",
            "linecolor": "white",
            "ticks": ""
           }
          },
          "title": {
           "x": 0.05
          },
          "xaxis": {
           "automargin": true,
           "gridcolor": "white",
           "linecolor": "white",
           "ticks": "",
           "title": {
            "standoff": 15
           },
           "zerolinecolor": "white",
           "zerolinewidth": 2
          },
          "yaxis": {
           "automargin": true,
           "gridcolor": "white",
           "linecolor": "white",
           "ticks": "",
           "title": {
            "standoff": 15
           },
           "zerolinecolor": "white",
           "zerolinewidth": 2
          }
         }
        },
        "title": {
         "text": "Survival / Fatality Split"
        }
       }
      }
     },
     "metadata": {},
     "output_type": "display_data"
    }
   ],
   "source": [
    "fig = px.pie(df, names='survival_status', title='Survival / Fatality Split')\n",
    "fig.show()"
   ]
  },
  {
   "cell_type": "markdown",
   "id": "674dccbc",
   "metadata": {},
   "source": [
    "Survivor Fatality Age Distribution"
   ]
  },
  {
   "cell_type": "code",
   "execution_count": 15,
   "id": "1fc1c0bc",
   "metadata": {},
   "outputs": [
    {
     "data": {
      "image/png": "[encoded data removed]",
      "text/plain": [
       "<Figure size 640x480 with 1 Axes>"
      ]
     },
     "metadata": {},
     "output_type": "display_data"
    }
   ],
   "source": [
    "\n",
    "sns.violinplot(data=df, x='survival_status', y='Age', inner='quartile')\n",
    "plt.title('Survivor Fatality Age Distribution')\n",
    "plt.xlabel('Survival Status')\n",
    "plt.ylabel('Age')\n",
    "plt.show()"
   ]
  },
  {
   "cell_type": "markdown",
   "id": "118678dc",
   "metadata": {},
   "source": [
    "Survival Count by Passenger Class"
   ]
  },
  {
   "cell_type": "code",
   "execution_count": 16,
   "id": "b7b1cb41",
   "metadata": {},
   "outputs": [
    {
     "data": {
      "image/png": "[encoded data removed]",
      "text/plain": [
       "<Figure size 640x480 with 1 Axes>"
      ]
     },
     "metadata": {},
     "output_type": "display_data"
    }
   ],
   "source": [
    "sns.countplot(data=df, x='Pclass', hue='survival_status')\n",
    "plt.title('Survival Count by Passenger Class')\n",
    "plt.xlabel('Passenger Class')\n",
    "plt.ylabel('Count')\n",
    "plt.legend(title='Survival Status')\n",
    "plt.show()"
   ]
  },
  {
   "cell_type": "markdown",
   "id": "318574d8",
   "metadata": {},
   "source": []
  },
  {
   "cell_type": "code",
   "execution_count": 20,
   "id": "69f4c69f",
   "metadata": {},
   "outputs": [
    {
     "data": {
      "image/png": "[encoded data removed]",
      "text/plain": [
       "<Figure size 640x480 with 1 Axes>"
      ]
     },
     "metadata": {},
     "output_type": "display_data"
    }
   ],
   "source": [
    "sns.boxplot(data=survivors_df, x='SibSp', y='Age')\n",
    "plt.title('Age Distribution by SibSp of Survivors')\n",
    "plt.xlabel('Number of Siblings/Spouses Aboard (SibSp)')\n",
    "plt.ylabel('Age')\n",
    "plt.show()"
   ]
  }
 ],
 "metadata": {
  "kernelspec": {
   "display_name": "Python 3",
   "language": "python",
   "name": "python3"
  },
  "language_info": {
   "codemirror_mode": {
    "name": "ipython",
    "version": 3
   },
   "file_extension": ".py",
   "mimetype": "text/x-python",
   "name": "python",
   "nbconvert_exporter": "python",
   "pygments_lexer": "ipython3",
   "version": "3.11.9"
  }
 },
 "nbformat": 4,
 "nbformat_minor": 5
}
