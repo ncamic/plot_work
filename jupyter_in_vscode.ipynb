{
 "cells": [
  {
   "cell_type": "markdown",
   "id": "c7b8026d",
   "metadata": {},
   "source": [
    "Markdown"
   ]
  },
  {
   "cell_type": "code",
   "execution_count": null,
   "id": "142e21ea",
   "metadata": {},
   "outputs": [],
   "source": []
  }
 ],
 "metadata": {
  "language_info": {
   "name": "python"
  }
 },
 "nbformat": 4,
 "nbformat_minor": 5
}
